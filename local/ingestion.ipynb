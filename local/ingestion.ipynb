{
 "cells": [
  {
   "cell_type": "code",
   "execution_count": 1,
   "metadata": {},
   "outputs": [
    {
     "data": {
      "text/html": [
       "<style>.container { width:100% !important; }</style>"
      ],
      "text/plain": [
       "<IPython.core.display.HTML object>"
      ]
     },
     "metadata": {},
     "output_type": "display_data"
    }
   ],
   "source": [
    "from IPython.display import display, HTML\n",
    "display(HTML(\"<style>.container { width:100% !important; }</style>\"))"
   ]
  },
  {
   "cell_type": "code",
   "execution_count": 2,
   "metadata": {},
   "outputs": [],
   "source": [
    "import os\n",
    "import json\n",
    "from datetime import datetime\n",
    "from pyspark.sql import SparkSession\n",
    "from pyspark.sql.types import StructType, StructField, DateType, StringType, TimestampType, IntegerType, FloatType\n",
    "\n",
    "spark = SparkSession.builder.master('local').appName('app_ingestion').getOrCreate()"
   ]
  },
  {
   "cell_type": "code",
   "execution_count": 3,
   "metadata": {},
   "outputs": [],
   "source": [
    "# define a common schema \n",
    "schema = StructType([\n",
    "    StructField('trade_dt', DateType(), True),\n",
    "    StructField('rec_type', StringType(),True),\n",
    "    StructField('symbol', StringType(),True),\n",
    "    StructField('exchange', StringType(),True),\n",
    "    StructField('event_tm', TimestampType(),True),\n",
    "    StructField('event_seq_nb', IntegerType(),True),\n",
    "    StructField('arrival_tm', TimestampType(),True),\n",
    "    StructField('trade_pr', FloatType(),True),\n",
    "    StructField('bid_pr', FloatType(),True),\n",
    "    StructField('bid_size', IntegerType(),True),\n",
    "    StructField('ask_pr', FloatType(),True),\n",
    "    StructField('ask_size', IntegerType(),True),\n",
    "    StructField('partition', StringType(),True)])"
   ]
  },
  {
   "cell_type": "code",
   "execution_count": 4,
   "metadata": {},
   "outputs": [],
   "source": [
    "#parse csv file\n",
    "def parse_csv(line:str):\n",
    "    record =line.split(',')\n",
    "    try:\n",
    "        if record[2]=='Q':\n",
    "            return (datetime.strptime(record[0], '%Y-%m-%d'),\n",
    "                    record[2],\n",
    "                    record[3],\n",
    "                    record[6],\n",
    "                    datetime.strptime(record[4], '%Y-%m-%d %H:%M:%S.%f'),\n",
    "                    int(record[5]),\n",
    "                    datetime.strptime(record[1], '%Y-%m-%d %H:%M:%S.%f'),\n",
    "                    None,\n",
    "                    float(record[7]),\n",
    "                    int(record[8]),\n",
    "                    float(record[9]),\n",
    "                    int(record[10]),\n",
    "                    'Q')\n",
    "        elif record[2]=='T':\n",
    "             return (datetime.strptime(record[0], '%Y-%m-%d'),\n",
    "                    record[2],\n",
    "                    record[3],\n",
    "                    record[6],\n",
    "                    datetime.strptime(record[4], '%Y-%m-%d %H:%M:%S.%f'),\n",
    "                    int(record[5]),\n",
    "                    datetime.strptime(record[1], '%Y-%m-%d %H:%M:%S.%f'),\n",
    "                    float(record[7]),\n",
    "                    None,\n",
    "                    int(record[8]),\n",
    "                    None,\n",
    "                    None,\n",
    "                    'T')\n",
    "    except Exception as e:   \n",
    "            print(\"parse_csv exception:\"+line)\n",
    "            return (None,None,None,None,None,None,None,None,None,None,None,None,\"B\")"
   ]
  },
  {
   "cell_type": "code",
   "execution_count": 5,
   "metadata": {},
   "outputs": [],
   "source": [
    "#parse json file\n",
    "def parse_json(line:str):\n",
    "    record=json.loads(line)\n",
    "    try:\n",
    "        # [logic to parse records]\n",
    "        if record['event_type']=='Q':\n",
    "            #if any of the fields missing, then, return a \"B\" record\n",
    "            #if all(i in record for i in ['trade_dt', 'event_type', 'symbol', 'exchange', 'event_tm',\n",
    "            #   'event_seq_nb', 'file_tm', 'bid_pr', 'bid_size', 'ask_pr', 'ask_size']):\n",
    "            return (datetime.strptime(record['trade_dt'], '%Y-%m-%d'), \n",
    "                    record['event_type'], \n",
    "                    record['symbol'], \n",
    "                    record['exchange'], \n",
    "                    datetime.strptime(field['event_tm'], '%Y-%m-%d %H:%M:%S.%f'),\n",
    "                    int(record['event_seq_nb']), \n",
    "                    datetime.strptime(field['file_tm'], '%Y-%m-%d %H:%M:%S.%f'), \n",
    "                    None, \n",
    "                    float(record['bid_pr']), \n",
    "                    int(record['bid_size']), \n",
    "                    float(record['ask_pr']), \n",
    "                    int(record['ask_size']),\n",
    "                    \"Q\")\n",
    "            #else:\n",
    "                #return (None,None,None,None,None,None,None,None,None,None,None,None,\"B\")\n",
    "        elif record['event_type']=='T':\n",
    "            #if any of the fields missing, then, return a \"B\" record\n",
    "            #if all(i in record for i in ['execution_id', trade_dt', 'event_type', 'symbol', 'exchange',\n",
    "            #  'event_tm', 'event_seq_nb', 'file_tm', 'price', 'size']):\n",
    "            return (datetime.strptime(field['trade_dt'], '%Y-%m-%d'), \n",
    "                    record['event_type'], \n",
    "                    record['symbol'], \n",
    "                    record['exchange'], \n",
    "                    datetime.strptime(record['event_tm'], '%Y-%m-%d %H:%M:%S.%f'),\n",
    "                    int(record['event_seq_nb']), \n",
    "                    datetime.strptime(record['file_tm'], '%Y-%m-%d %H:%M:%S.%f'),\n",
    "                    float(record['price']), \n",
    "                    None, \n",
    "                    int(record['size']), \n",
    "                    None, \n",
    "                    None,\n",
    "                    \"T\")\n",
    "            #else:\n",
    "                #return (None,None,None,None,None,None,None,None,None,None,None,None,\"B\")\n",
    "    except Exception as e:\n",
    "            print(\"parse_json exception\"+line)\n",
    "            return (None,None,None,None,None,None,None,None,None,None,None,None,\"B\")"
   ]
  },
  {
   "cell_type": "code",
   "execution_count": 6,
   "metadata": {},
   "outputs": [
    {
     "name": "stdout",
     "output_type": "stream",
     "text": [
      "['.part-00000-5e4ced0a-66e2-442a-b020-347d0df4df8f-c000.txt.crc', '._SUCCESS.crc', 'part-00000-5e4ced0a-66e2-442a-b020-347d0df4df8f-c000.txt', '_SUCCESS']\n"
     ]
    }
   ],
   "source": [
    "#rdd for csv file of date 0805\n",
    "path = 'C:/sb/equity-market-data-analysis/data/csv/2020-08-05/NYSE/'\n",
    "name =os.listdir(path)\n",
    "print (name)\n",
    "raw_csv=spark.sparkContext.textFile(path+name[2])\n",
    "csv0805_rdd=raw_csv.map(parse_csv)"
   ]
  },
  {
   "cell_type": "code",
   "execution_count": 7,
   "metadata": {},
   "outputs": [],
   "source": [
    "#rdd for csv file of date 0806\n",
    "path = 'C:/sb/equity-market-data-analysis/data/csv/2020-08-06/NYSE/'\n",
    "name =os.listdir(path)\n",
    "raw_csv=spark.sparkContext.textFile(path+name[2])\n",
    "csv0806_rdd=raw_csv.map(parse_csv)"
   ]
  },
  {
   "cell_type": "code",
   "execution_count": 8,
   "metadata": {},
   "outputs": [],
   "source": [
    "#rdd for json file of date 0805\n",
    "path = 'C:/sb/equity-market-data-analysis/data/json/2020-08-05/NASDAQ/'\n",
    "name =os.listdir(path)\n",
    "raw_json=spark.sparkContext.textFile(path+name[2])\n",
    "json0805_rdd=raw_json.map(parse_json)"
   ]
  },
  {
   "cell_type": "code",
   "execution_count": 9,
   "metadata": {},
   "outputs": [],
   "source": [
    "#rdd for json file of date 0806\n",
    "path = 'C:/sb/equity-market-data-analysis/data/json/2020-08-06/NASDAQ/'\n",
    "name =os.listdir(path)\n",
    "raw_json=spark.sparkContext.textFile(path+name[2])\n",
    "json0806_rdd=raw_json.map(parse_json)"
   ]
  },
  {
   "cell_type": "code",
   "execution_count": 10,
   "metadata": {},
   "outputs": [],
   "source": [
    "#union the DASDAQ and NYSE to get the rdd for date 0805\n",
    "rdd0805 = csv0805_rdd.union(json0805_rdd)\n",
    "rdd0806 = csv0806_rdd.union(json0806_rdd)"
   ]
  },
  {
   "cell_type": "code",
   "execution_count": 11,
   "metadata": {},
   "outputs": [
    {
     "name": "stdout",
     "output_type": "stream",
     "text": [
      "+----------+--------+------+--------+--------------------+------------+-------------------+---------+---------+--------+---------+--------+---------+\n",
      "|  trade_dt|rec_type|symbol|exchange|            event_tm|event_seq_nb|         arrival_tm| trade_pr|   bid_pr|bid_size|   ask_pr|ask_size|partition|\n",
      "+----------+--------+------+--------+--------------------+------------+-------------------+---------+---------+--------+---------+--------+---------+\n",
      "|2020-08-05|       Q|  SYMA|    NYSE|2020-08-05 09:34:...|           1|2020-08-05 09:30:00|     null| 75.30255|     100| 75.35917|     100|        Q|\n",
      "|2020-08-05|       Q|  SYMA|    NYSE|2020-08-05 09:40:...|           2|2020-08-05 09:30:00|     null| 77.20875|     100| 78.90918|     100|        Q|\n",
      "|2020-08-05|       Q|  SYMA|    NYSE|2020-08-05 09:50:...|           3|2020-08-05 09:30:00|     null| 77.15973|     100| 77.33205|     100|        Q|\n",
      "|2020-08-05|       Q|  SYMA|    NYSE|2020-08-05 09:57:...|           4|2020-08-05 09:30:00|     null|79.299774|     100| 80.08399|     100|        Q|\n",
      "|2020-08-05|       Q|  SYMA|    NYSE|2020-08-05 10:06:...|           5|2020-08-05 09:30:00|     null|77.863495|     100| 78.30821|     100|        Q|\n",
      "|2020-08-05|       Q|  SYMA|    NYSE|2020-08-05 10:11:...|           6|2020-08-05 09:30:00|     null| 78.74799|     100|80.329056|     100|        Q|\n",
      "|2020-08-05|       Q|  SYMA|    NYSE|2020-08-05 10:17:...|           7|2020-08-05 09:30:00|     null| 77.16837|     100| 77.97598|     100|        Q|\n",
      "|2020-08-05|       Q|  SYMA|    NYSE|2020-08-05 10:23:...|           8|2020-08-05 09:30:00|     null| 78.06551|     100| 78.80516|     100|        Q|\n",
      "|2020-08-05|       Q|  SYMA|    NYSE|2020-08-05 10:31:...|           9|2020-08-05 09:30:00|     null| 76.69653|     100| 78.56943|     100|        Q|\n",
      "|2020-08-05|       T|  SYMA|    NYSE|2020-08-05 10:37:...|          10|2020-08-05 09:30:00|79.194885|     null|     912|     null|    null|        T|\n",
      "|2020-08-05|       Q|  SYMA|    NYSE|2020-08-05 10:45:...|          11|2020-08-05 09:30:00|     null| 75.10474|     100|77.096565|     100|        Q|\n",
      "|2020-08-05|       Q|  SYMA|    NYSE|2020-08-05 10:54:...|          12|2020-08-05 09:30:00|     null| 74.52148|     100| 75.66917|     100|        Q|\n",
      "|2020-08-05|       Q|  SYMA|    NYSE|2020-08-05 11:03:...|          13|2020-08-05 09:30:00|     null| 75.16876|     100| 76.70698|     100|        Q|\n",
      "|2020-08-05|       Q|  SYMA|    NYSE|2020-08-05 11:12:...|          14|2020-08-05 09:30:00|     null| 74.56633|     100|74.621376|     100|        Q|\n",
      "|2020-08-05|       Q|  SYMA|    NYSE|2020-08-05 11:19:...|          15|2020-08-05 09:30:00|     null| 74.49803|     100|76.475914|     100|        Q|\n",
      "|2020-08-05|       Q|  SYMA|    NYSE|2020-08-05 11:27:...|          16|2020-08-05 09:30:00|     null| 75.22889|     100|76.143684|     100|        Q|\n",
      "|2020-08-05|       Q|  SYMA|    NYSE|2020-08-05 11:35:...|          17|2020-08-05 09:30:00|     null| 76.62792|     100| 76.99149|     100|        Q|\n",
      "|2020-08-05|       Q|  SYMA|    NYSE|2020-08-05 11:42:...|          18|2020-08-05 09:30:00|     null|77.094666|     100|78.159676|     100|        Q|\n",
      "|2020-08-05|       Q|  SYMA|    NYSE|2020-08-05 11:51:...|          19|2020-08-05 09:30:00|     null|78.335365|     100| 79.39139|     100|        Q|\n",
      "|2020-08-05|       T|  SYMA|    NYSE|2020-08-05 11:56:...|          20|2020-08-05 09:30:00| 76.49093|     null|     962|     null|    null|        T|\n",
      "+----------+--------+------+--------+--------------------+------------+-------------------+---------+---------+--------+---------+--------+---------+\n",
      "only showing top 20 rows\n",
      "\n",
      "+----------+--------+------+--------+--------------------+------------+-------------------+---------+---------+--------+---------+--------+---------+\n",
      "|  trade_dt|rec_type|symbol|exchange|            event_tm|event_seq_nb|         arrival_tm| trade_pr|   bid_pr|bid_size|   ask_pr|ask_size|partition|\n",
      "+----------+--------+------+--------+--------------------+------------+-------------------+---------+---------+--------+---------+--------+---------+\n",
      "|2020-08-06|       Q|  SYMA|    NYSE|2020-08-06 09:39:...|           1|2020-08-06 09:30:00|     null| 77.67913|     100|78.437355|     100|        Q|\n",
      "|2020-08-06|       Q|  SYMA|    NYSE|2020-08-06 09:47:...|           2|2020-08-06 09:30:00|     null| 76.53373|     100| 76.94425|     100|        Q|\n",
      "|2020-08-06|       Q|  SYMA|    NYSE|2020-08-06 09:56:...|           3|2020-08-06 09:30:00|     null|75.120605|     100| 75.39408|     100|        Q|\n",
      "|2020-08-06|       Q|  SYMA|    NYSE|2020-08-06 10:03:...|           4|2020-08-06 09:30:00|     null| 74.86369|     100| 75.76861|     100|        Q|\n",
      "|2020-08-06|       Q|  SYMA|    NYSE|2020-08-06 10:09:...|           5|2020-08-06 09:30:00|     null|  77.7765|     100|78.801094|     100|        Q|\n",
      "|2020-08-06|       Q|  SYMA|    NYSE|2020-08-06 10:18:...|           6|2020-08-06 09:30:00|     null| 75.02947|     100|75.690575|     100|        Q|\n",
      "|2020-08-06|       Q|  SYMA|    NYSE|2020-08-06 10:25:...|           7|2020-08-06 09:30:00|     null| 75.36016|     100| 75.46482|     100|        Q|\n",
      "|2020-08-06|       Q|  SYMA|    NYSE|2020-08-06 10:34:...|           8|2020-08-06 09:30:00|     null| 78.58505|     100| 78.60169|     100|        Q|\n",
      "|2020-08-06|       Q|  SYMA|    NYSE|2020-08-06 10:41:...|           9|2020-08-06 09:30:00|     null|  75.7057|     100| 76.89216|     100|        Q|\n",
      "|2020-08-06|       T|  SYMA|    NYSE|2020-08-06 10:49:...|          10|2020-08-06 09:30:00|74.493774|     null|      27|     null|    null|        T|\n",
      "|2020-08-06|       Q|  SYMA|    NYSE|2020-08-06 10:55:...|          11|2020-08-06 09:30:00|     null|78.310555|     100| 79.47636|     100|        Q|\n",
      "|2020-08-06|       Q|  SYMA|    NYSE|2020-08-06 11:03:...|          12|2020-08-06 09:30:00|     null| 77.97817|     100| 79.28954|     100|        Q|\n",
      "|2020-08-06|       Q|  SYMA|    NYSE|2020-08-06 11:12:...|          13|2020-08-06 09:30:00|     null|75.007744|     100|  75.3299|     100|        Q|\n",
      "|2020-08-06|       Q|  SYMA|    NYSE|2020-08-06 11:20:...|          14|2020-08-06 09:30:00|     null| 75.20346|     100| 77.09724|     100|        Q|\n",
      "|2020-08-06|       Q|  SYMA|    NYSE|2020-08-06 11:27:...|          15|2020-08-06 09:30:00|     null| 75.49015|     100| 76.72422|     100|        Q|\n",
      "|2020-08-06|       Q|  SYMA|    NYSE|2020-08-06 11:32:...|          16|2020-08-06 09:30:00|     null|77.776596|     100| 78.86235|     100|        Q|\n",
      "|2020-08-06|       Q|  SYMA|    NYSE|2020-08-06 11:39:...|          17|2020-08-06 09:30:00|     null|  77.3139|     100| 79.10032|     100|        Q|\n",
      "|2020-08-06|       Q|  SYMA|    NYSE|2020-08-06 11:45:...|          18|2020-08-06 09:30:00|     null|79.173676|     100| 80.35081|     100|        Q|\n",
      "|2020-08-06|       Q|  SYMA|    NYSE|2020-08-06 11:53:...|          19|2020-08-06 09:30:00|     null|77.161835|     100| 78.59093|     100|        Q|\n",
      "|2020-08-06|       T|  SYMA|    NYSE|2020-08-06 12:00:...|          20|2020-08-06 09:30:00|76.161194|     null|     315|     null|    null|        T|\n",
      "+----------+--------+------+--------+--------------------+------------+-------------------+---------+---------+--------+---------+--------+---------+\n",
      "only showing top 20 rows\n",
      "\n"
     ]
    }
   ],
   "source": [
    "df = spark.createDataFrame(rdd0805, schema=schema)\n",
    "df.show()\n",
    "df.write.partitionBy(\"partition\").mode(\"overwrite\").parquet(\"c:/sb/equity-market-data-analysis/output_dir/2020-08-05\")\n",
    "df = spark.createDataFrame(rdd0806, schema=schema)\n",
    "df.show()\n",
    "df.write.partitionBy(\"partition\").mode(\"overwrite\").parquet(\"c:/sb/equity-market-data-analysis/output_dir/2020-08-06\")\n"
   ]
  }
 ],
 "metadata": {
  "interpreter": {
   "hash": "130677d53f9d9c005597b4a5ffdfc05a13adc24155f87011c93166abe676c0fb"
  },
  "kernelspec": {
   "display_name": "Python 3",
   "language": "python",
   "name": "python3"
  },
  "language_info": {
   "codemirror_mode": {
    "name": "ipython",
    "version": 3
   },
   "file_extension": ".py",
   "mimetype": "text/x-python",
   "name": "python",
   "nbconvert_exporter": "python",
   "pygments_lexer": "ipython3",
   "version": "3.8.5"
  }
 },
 "nbformat": 4,
 "nbformat_minor": 2
}
