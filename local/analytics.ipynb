{
 "cells": [
  {
   "cell_type": "code",
   "execution_count": 1,
   "metadata": {},
   "outputs": [
    {
     "data": {
      "text/html": [
       "<style>.container { width:100% !important; }</style>"
      ],
      "text/plain": [
       "<IPython.core.display.HTML object>"
      ]
     },
     "metadata": {},
     "output_type": "display_data"
    }
   ],
   "source": [
    "from IPython.display import display, HTML\n",
    "display(HTML(\"<style>.container { width:100% !important; }</style>\"))"
   ]
  },
  {
   "cell_type": "code",
   "execution_count": 2,
   "metadata": {},
   "outputs": [],
   "source": [
    "import os\n",
    "from datetime import datetime, timedelta\n",
    "from pyspark.sql import SparkSession\n",
    "from pyspark.sql.types import StructType, StructField, StringType"
   ]
  },
  {
   "cell_type": "code",
   "execution_count": 3,
   "metadata": {},
   "outputs": [],
   "source": [
    "spark = SparkSession.builder.master(\"local\").appName(\"analytics\").getOrCreate()"
   ]
  },
  {
   "cell_type": "code",
   "execution_count": 4,
   "metadata": {},
   "outputs": [
    {
     "name": "stdout",
     "output_type": "stream",
     "text": [
      "+----------+------+--------+--------------------+------------+-------------------+---------+-------------------+----------+\n",
      "|  trade_dt|symbol|exchange|            event_tm|event_seq_nb|         arrival_tm| trade_pr|             latest|      date|\n",
      "+----------+------+--------+--------------------+------------+-------------------+---------+-------------------+----------+\n",
      "|2020-08-06|  SYMA|    NYSE|2020-08-06 10:49:...|          10|2020-08-06 09:30:00|74.493774|2020-08-06 09:30:00|2020-08-06|\n",
      "|2020-08-06|  SYMA|    NYSE|2020-08-06 12:00:...|          20|2020-08-06 09:30:00|76.161194|2020-08-06 09:30:00|2020-08-06|\n",
      "|2020-08-06|  SYMA|    NYSE|2020-08-06 13:11:...|          30|2020-08-06 09:30:00|76.899635|2020-08-06 09:30:00|2020-08-06|\n",
      "|2020-08-06|  SYMA|    NYSE|2020-08-06 14:27:...|          40|2020-08-06 09:30:00| 77.11552|2020-08-06 09:30:00|2020-08-06|\n",
      "|2020-08-06|  SYMA|    NYSE|2020-08-06 15:39:...|          50|2020-08-06 09:30:00| 76.37442|2020-08-06 09:30:00|2020-08-06|\n",
      "+----------+------+--------+--------------------+------------+-------------------+---------+-------------------+----------+\n",
      "only showing top 5 rows\n",
      "\n",
      "+----------+------+--------+--------------------+------------+-------------------+---------+--------+---------+--------+-------------------+----------+\n",
      "|  trade_dt|symbol|exchange|            event_tm|event_seq_nb|         arrival_tm|   bid_pr|bid_size|   ask_pr|ask_size|             latest|      date|\n",
      "+----------+------+--------+--------------------+------------+-------------------+---------+--------+---------+--------+-------------------+----------+\n",
      "|2020-08-05|  SYMC|    NYSE|2020-08-05 12:37:...|          25|2020-08-05 09:30:00|159.04997|     100|159.51134|     100|2020-08-05 09:30:00|2020-08-05|\n",
      "|2020-08-05|  SYMA|    NYSE|2020-08-05 16:22:...|          58|2020-08-05 09:30:00| 78.64766|     100| 80.47711|     100|2020-08-05 09:30:00|2020-08-05|\n",
      "|2020-08-05|  SYMC|    NYSE|2020-08-05 15:02:...|          44|2020-08-05 09:30:00|159.85558|     100|160.28256|     100|2020-08-05 09:30:00|2020-08-05|\n",
      "|2020-08-05|  SYMA|    NYSE|2020-08-05 17:33:...|          68|2020-08-05 09:30:00|79.036446|     100| 80.72043|     100|2020-08-05 09:30:00|2020-08-05|\n",
      "|2020-08-05|  SYMA|    NYSE|2020-08-05 21:09:...|          97|2020-08-05 09:30:00| 78.75501|     100| 80.22445|     100|2020-08-05 09:30:00|2020-08-05|\n",
      "+----------+------+--------+--------------------+------------+-------------------+---------+--------+---------+--------+-------------------+----------+\n",
      "only showing top 5 rows\n",
      "\n"
     ]
    }
   ],
   "source": [
    "#4.1 Read Parquet Files\n",
    "#from load step: corrected.write.mode(\"append\").parquet(\"c:/sb/equity-market-data-analysis/output_dir/trade/date={}\".format(date))\n",
    "tradedf = spark.read.parquet(\"c:/sb/equity-market-data-analysis/output_dir/trade\")\n",
    "tradedf.createOrReplaceTempView(\"trades\")\n",
    "tradedf.show(5)\n",
    "\n",
    "quotedf = spark.read.parquet(\"c:/sb/equity-market-data-analysis/output_dir/quote\")\n",
    "quotedf.createOrReplaceTempView(\"quotes\")\n",
    "quotedf.show(5)"
   ]
  },
  {
   "cell_type": "code",
   "execution_count": 5,
   "metadata": {},
   "outputs": [],
   "source": [
    "#4.2 Create trade staging table\n",
    "#4.2.1 use spark to read the trade table with date partition \"2020-08-05'\n",
    "query = \"\"\"\n",
    "    select trade_dt, symbol, exchange, event_tm, event_seq_nb, trade_pr from trades\n",
    "    where trade_dt = '2020-08-06'\n",
    "    \"\"\"\n",
    "df = spark.sql(query)\n",
    "#4.2.2 Create a spark temporary view\n",
    "df.createOrReplaceTempView(\"tmp_trade_moving_avg1\")"
   ]
  },
  {
   "cell_type": "code",
   "execution_count": 6,
   "metadata": {},
   "outputs": [
    {
     "name": "stdout",
     "output_type": "stream",
     "text": [
      "+----------+------+--------+--------------------+------------+---------+\n",
      "|  trade_dt|symbol|exchange|            event_tm|event_seq_nb| trade_pr|\n",
      "+----------+------+--------+--------------------+------------+---------+\n",
      "|2020-08-06|  SYMA|    NYSE|2020-08-06 10:49:...|          10|74.493774|\n",
      "|2020-08-06|  SYMA|    NYSE|2020-08-06 12:00:...|          20|76.161194|\n",
      "|2020-08-06|  SYMA|    NYSE|2020-08-06 13:11:...|          30|76.899635|\n",
      "|2020-08-06|  SYMA|    NYSE|2020-08-06 14:27:...|          40| 77.11552|\n",
      "|2020-08-06|  SYMA|    NYSE|2020-08-06 15:39:...|          50| 76.37442|\n",
      "+----------+------+--------+--------------------+------------+---------+\n",
      "only showing top 5 rows\n",
      "\n"
     ]
    }
   ],
   "source": [
    "df.show(5)"
   ]
  },
  {
   "cell_type": "code",
   "execution_count": 7,
   "metadata": {},
   "outputs": [],
   "source": [
    "#4.2.3 Calculate The 30-min Moving Average using tmp_trade_moving_avg\n",
    "query = \"\"\"\n",
    "    SELECT trade_dt, symbol, exchange, event_tm, event_seq_nb, trade_pr,\n",
    "    avg(trade_pr) OVER(PARTITION BY symbol ORDER BY CAST(event_tm AS timestamp) \n",
    "        RANGE BETWEEN INTERVAL 30 MINUTES PRECEDING AND CURRENT ROW) as mov_avg_pr\n",
    "    FROM tmp_trade_moving_avg1\n",
    "    \"\"\"\n",
    "mov_avg_df = spark.sql(query)"
   ]
  },
  {
   "cell_type": "code",
   "execution_count": 8,
   "metadata": {},
   "outputs": [
    {
     "name": "stdout",
     "output_type": "stream",
     "text": [
      "+----------+------+--------+--------------------+------------+---------+-----------------+\n",
      "|  trade_dt|symbol|exchange|            event_tm|event_seq_nb| trade_pr|       mov_avg_pr|\n",
      "+----------+------+--------+--------------------+------------+---------+-----------------+\n",
      "|2020-08-06|  SYMA|    NYSE|2020-08-06 10:49:...|          10|74.493774| 74.4937744140625|\n",
      "|2020-08-06|  SYMA|    NYSE|2020-08-06 12:00:...|          20|76.161194|76.16119384765625|\n",
      "|2020-08-06|  SYMA|    NYSE|2020-08-06 13:11:...|          30|76.899635| 76.8996353149414|\n",
      "|2020-08-06|  SYMA|    NYSE|2020-08-06 14:27:...|          40| 77.11552|77.11551666259766|\n",
      "|2020-08-06|  SYMA|    NYSE|2020-08-06 15:39:...|          50| 76.37442|76.37442016601562|\n",
      "+----------+------+--------+--------------------+------------+---------+-----------------+\n",
      "only showing top 5 rows\n",
      "\n"
     ]
    }
   ],
   "source": [
    "mov_avg_df.show(5)"
   ]
  },
  {
   "cell_type": "code",
   "execution_count": 9,
   "metadata": {},
   "outputs": [],
   "source": [
    "#4.2.4 Save the temporary view into Hive table for staging\n",
    "\n",
    "#mov_avg_df.write.saveAsTable(\"tmp_trade_moving_avg\", mode='overwrite')\n",
    "mov_avg_df.createOrReplaceTempView(\"tmp_trade_moving_avg\")"
   ]
  },
  {
   "cell_type": "code",
   "execution_count": 10,
   "metadata": {},
   "outputs": [
    {
     "name": "stdout",
     "output_type": "stream",
     "text": [
      "2020-08-06 00:00:00\n",
      "2020-08-05\n",
      "+----------+------+--------+--------------------+------------+---------+\n",
      "|  trade_dt|symbol|exchange|            event_tm|event_seq_nb| trade_pr|\n",
      "+----------+------+--------+--------------------+------------+---------+\n",
      "|2020-08-05|  SYMA|    NYSE|2020-08-05 10:37:...|          10|79.194885|\n",
      "|2020-08-05|  SYMA|    NYSE|2020-08-05 11:56:...|          20| 76.49093|\n",
      "|2020-08-05|  SYMA|    NYSE|2020-08-05 13:09:...|          30| 75.04523|\n",
      "|2020-08-05|  SYMA|    NYSE|2020-08-05 14:24:...|          40|78.430954|\n",
      "|2020-08-05|  SYMA|    NYSE|2020-08-05 15:31:...|          50| 78.15297|\n",
      "+----------+------+--------+--------------------+------------+---------+\n",
      "only showing top 5 rows\n",
      "\n"
     ]
    }
   ],
   "source": [
    "#4.3 Create Staging Table for the prior day's last trade\n",
    "#4.3.1 Get the previous date value\n",
    "date = datetime.strptime('2020-08-06', '%Y-%m-%d')\n",
    "print(date)\n",
    "prev_date_str = str(date.date() - timedelta(days=1))\n",
    "print(prev_date_str)\n",
    "\n",
    "#4.3.2 Use Spark to read the trade table with date partition prev_date_str \n",
    "query = \"\"\"\n",
    "    select trade_dt, symbol, exchange, event_tm, event_seq_nb, trade_pr from trades\n",
    "    where trade_dt = '{}'\n",
    "    \"\"\"\n",
    "df = spark.sql(query.format(prev_date_str))\n",
    "df.show(5)"
   ]
  },
  {
   "cell_type": "code",
   "execution_count": 11,
   "metadata": {},
   "outputs": [],
   "source": [
    "#4.3.3 Create spark temporary view\n",
    "df.createOrReplaceTempView(\"tmp_last_trade1\")"
   ]
  },
  {
   "cell_type": "code",
   "execution_count": 12,
   "metadata": {},
   "outputs": [],
   "source": [
    "#4.3.4 Calculate last trade price using tmp_last_trade\n",
    "query = \"\"\"\n",
    "    SELECT symbol, exchange, trade_pr AS close_pr\n",
    "    FROM tmp_last_trade1 t1\n",
    "    JOIN\n",
    "    (SELECT MAX(event_tm) AS last_record FROM tmp_last_trade1\n",
    "     GROUP BY symbol, exchange) t2\n",
    "    ON t1.event_tm == last_record\n",
    "    \"\"\""
   ]
  },
  {
   "cell_type": "code",
   "execution_count": 13,
   "metadata": {},
   "outputs": [],
   "source": [
    "last_pr_df = spark.sql(query)"
   ]
  },
  {
   "cell_type": "code",
   "execution_count": 14,
   "metadata": {},
   "outputs": [
    {
     "name": "stdout",
     "output_type": "stream",
     "text": [
      "+------+--------+---------+\n",
      "|symbol|exchange| close_pr|\n",
      "+------+--------+---------+\n",
      "|  SYMA|    NYSE| 77.78611|\n",
      "|  SYMB|    NYSE|33.956287|\n",
      "|  SYMC|    NYSE|160.61949|\n",
      "+------+--------+---------+\n",
      "\n"
     ]
    }
   ],
   "source": [
    "last_pr_df.show(5)"
   ]
  },
  {
   "cell_type": "code",
   "execution_count": 15,
   "metadata": {},
   "outputs": [],
   "source": [
    "last_pr_df.createOrReplaceTempView(\"tmp_last_trade\")"
   ]
  },
  {
   "cell_type": "code",
   "execution_count": 16,
   "metadata": {},
   "outputs": [
    {
     "name": "stdout",
     "output_type": "stream",
     "text": [
      "+----------+------+--------+--------------------+------------+----------+--------+------+--------+------+---------+-----------------+\n",
      "|  trade_dt|symbol|exchange|            event_tm|event_seq_nb|arrival_tm|bid_size|ask_pr|ask_size|latest| trade_pr|       mov_avg_pr|\n",
      "+----------+------+--------+--------------------+------------+----------+--------+------+--------+------+---------+-----------------+\n",
      "|2020-08-06|  SYMA|    NYSE|2020-08-06 22:00:...|         100|      null|    null|  null|    null|  null| 76.30847| 76.3084716796875|\n",
      "|2020-08-06|  SYMA|    NYSE|2020-08-06 14:27:...|          40|      null|    null|  null|    null|  null| 77.11552|77.11551666259766|\n",
      "|2020-08-06|  SYMA|    NYSE|2020-08-06 13:11:...|          30|      null|    null|  null|    null|  null|76.899635| 76.8996353149414|\n",
      "|2020-08-06|  SYMA|    NYSE|2020-08-06 16:58:...|          60|      null|    null|  null|    null|  null| 78.32364|78.32363891601562|\n",
      "|2020-08-06|  SYMA|    NYSE|2020-08-06 20:49:...|          90|      null|    null|  null|    null|  null| 75.71484|      75.71484375|\n",
      "|2020-08-06|  SYMA|    NYSE|2020-08-06 18:14:...|          70|      null|    null|  null|    null|  null| 78.23471|78.23471069335938|\n",
      "|2020-08-06|  SYMA|    NYSE|2020-08-06 19:28:...|          80|      null|    null|  null|    null|  null|76.528984|76.52898406982422|\n",
      "|2020-08-06|  SYMA|    NYSE|2020-08-06 15:39:...|          50|      null|    null|  null|    null|  null| 76.37442|76.37442016601562|\n",
      "|2020-08-06|  SYMA|    NYSE|2020-08-06 10:49:...|          10|      null|    null|  null|    null|  null|74.493774| 74.4937744140625|\n",
      "|2020-08-06|  SYMA|    NYSE|2020-08-06 12:00:...|          20|      null|    null|  null|    null|  null|76.161194|76.16119384765625|\n",
      "+----------+------+--------+--------------------+------------+----------+--------+------+--------+------+---------+-----------------+\n",
      "only showing top 10 rows\n",
      "\n"
     ]
    }
   ],
   "source": [
    "#4.4.1.2 Create spark temp view to union both tables\n",
    "quote_union = spark.sql(\"\"\"\n",
    "    SELECT trade_dt, symbol, exchange, event_tm, event_seq_nb, NULL as arrival_tm, NULL as bid_size, \n",
    "        NULL as ask_pr, NULL as ask_size, NULL as latest, trade_pr, mov_avg_pr \n",
    "    FROM tmp_trade_moving_avg\n",
    "    UNION \n",
    "    SELECT trade_dt, symbol, exchange, event_tm, event_seq_nb, arrival_tm, bid_size, ask_pr, ask_size,\n",
    "        latest, NULL as trade_pr, NULL as mov_avg_pr \n",
    "    FROM quotes\n",
    "    \"\"\")\n",
    "quote_union.createOrReplaceTempView(\"quote_union\")\n",
    "quote_union.show(10)"
   ]
  },
  {
   "cell_type": "code",
   "execution_count": 17,
   "metadata": {},
   "outputs": [
    {
     "name": "stdout",
     "output_type": "stream",
     "text": [
      "+----------+------+--------+--------------------+------------+-------------------+--------+--------+--------+-------------------+---------------+----------------+\n",
      "|  trade_dt|symbol|exchange|            event_tm|event_seq_nb|         arrival_tm|bid_size|  ask_pr|ask_size|             latest|latest_trade_pr|      mov_avg_pr|\n",
      "+----------+------+--------+--------------------+------------+-------------------+--------+--------+--------+-------------------+---------------+----------------+\n",
      "|2020-08-06|  SYMA|    NYSE|2020-08-06 12:52:...|          27|2020-08-06 09:30:00|     100|78.24039|     100|2020-08-06 09:30:00|       76.30847|76.3084716796875|\n",
      "|2020-08-06|  SYMA|    NYSE|2020-08-06 15:12:...|          46|2020-08-06 09:30:00|     100| 78.0638|     100|2020-08-06 09:30:00|       76.30847|76.3084716796875|\n",
      "|2020-08-06|  SYMA|    NYSE|2020-08-06 18:37:...|          73|2020-08-06 09:30:00|     100|76.86819|     100|2020-08-06 09:30:00|       76.30847|76.3084716796875|\n",
      "|2020-08-06|  SYMA|    NYSE|2020-08-06 10:41:...|           9|2020-08-06 09:30:00|     100|76.89216|     100|2020-08-06 09:30:00|       76.30847|76.3084716796875|\n",
      "|2020-08-06|  SYMA|    NYSE|2020-08-06 11:53:...|          19|2020-08-06 09:30:00|     100|78.59093|     100|2020-08-06 09:30:00|       76.30847|76.3084716796875|\n",
      "|2020-08-06|  SYMA|    NYSE|2020-08-06 17:52:...|          67|2020-08-06 09:30:00|     100|77.71332|     100|2020-08-06 09:30:00|       76.30847|76.3084716796875|\n",
      "|2020-08-06|  SYMA|    NYSE|2020-08-06 13:46:...|          35|2020-08-06 09:30:00|     100|81.27457|     100|2020-08-06 09:30:00|       76.30847|76.3084716796875|\n",
      "|2020-08-05|  SYMA|    NYSE|2020-08-05 14:02:...|          37|2020-08-05 09:30:00|     100|77.38553|     100|2020-08-05 09:30:00|       76.30847|76.3084716796875|\n",
      "|2020-08-06|  SYMA|    NYSE|2020-08-06 12:45:...|          26|2020-08-06 09:30:00|     100|78.79128|     100|2020-08-06 09:30:00|       76.30847|76.3084716796875|\n",
      "|2020-08-05|  SYMA|    NYSE|2020-08-05 14:55:...|          45|2020-08-05 09:30:00|     100|77.12145|     100|2020-08-05 09:30:00|       76.30847|76.3084716796875|\n",
      "+----------+------+--------+--------------------+------------+-------------------+--------+--------+--------+-------------------+---------------+----------------+\n",
      "only showing top 10 rows\n",
      "\n"
     ]
    }
   ],
   "source": [
    "#4.4 Populate the latest trade_pr and mov_avg_pr \n",
    "quote_union_update = spark.sql(\"\"\"\n",
    "SELECT quote_union.trade_dt, quote_union.symbol, quote_union.exchange, quote_union.event_tm, \n",
    "        quote_union.event_seq_nb, quote_union.arrival_tm, quote_union.bid_size, quote_union.ask_pr, \n",
    "        quote_union.ask_size, quote_union.latest, latest_trade.latest_trade_pr, latest_trade.mov_avg_pr\n",
    "FROM quote_union\n",
    "JOIN (SELECT quote.symbol, quote.exchange, quote.trade_pr as latest_trade_pr, quote.mov_avg_pr\n",
    "    FROM quote_union quote\n",
    "    JOIN (SELECT MAX(event_tm) as latest_event_tm FROM quote_union GROUP BY symbol, exchange) last_trade_tm\n",
    "        ON quote.event_tm == last_trade_tm.latest_event_tm) latest_trade\n",
    "    ON quote_union.symbol == latest_trade.symbol AND quote_union.exchange == latest_trade.exchange\n",
    "    \"\"\")\n",
    "quote_union_update.createOrReplaceTempView(\"quote_union_update\")\n",
    "quote_union_update.show(10)"
   ]
  },
  {
   "cell_type": "code",
   "execution_count": 18,
   "metadata": {},
   "outputs": [
    {
     "name": "stdout",
     "output_type": "stream",
     "text": [
      "+----------+------+--------+--------------------+------------+-------------------+--------+--------+--------+-------------------+---------------+----------------+\n",
      "|  trade_dt|symbol|exchange|            event_tm|event_seq_nb|         arrival_tm|bid_size|  ask_pr|ask_size|             latest|latest_trade_pr|      mov_avg_pr|\n",
      "+----------+------+--------+--------------------+------------+-------------------+--------+--------+--------+-------------------+---------------+----------------+\n",
      "|2020-08-06|  SYMA|    NYSE|2020-08-06 12:52:...|          27|2020-08-06 09:30:00|     100|78.24039|     100|2020-08-06 09:30:00|       76.30847|76.3084716796875|\n",
      "|2020-08-06|  SYMA|    NYSE|2020-08-06 15:12:...|          46|2020-08-06 09:30:00|     100| 78.0638|     100|2020-08-06 09:30:00|       76.30847|76.3084716796875|\n",
      "|2020-08-06|  SYMA|    NYSE|2020-08-06 18:37:...|          73|2020-08-06 09:30:00|     100|76.86819|     100|2020-08-06 09:30:00|       76.30847|76.3084716796875|\n",
      "|2020-08-06|  SYMA|    NYSE|2020-08-06 10:41:...|           9|2020-08-06 09:30:00|     100|76.89216|     100|2020-08-06 09:30:00|       76.30847|76.3084716796875|\n",
      "|2020-08-06|  SYMA|    NYSE|2020-08-06 11:53:...|          19|2020-08-06 09:30:00|     100|78.59093|     100|2020-08-06 09:30:00|       76.30847|76.3084716796875|\n",
      "+----------+------+--------+--------------------+------------+-------------------+--------+--------+--------+-------------------+---------------+----------------+\n",
      "only showing top 5 rows\n",
      "\n"
     ]
    }
   ],
   "source": [
    "#4.4.1.4 Filter for quote records\n",
    "quote_update = spark.sql(\"\"\"\n",
    "SELECT *\n",
    "FROM quote_union_update\n",
    "WHERE ask_size IS NOT NULL\n",
    "\"\"\")\n",
    "quote_update.createOrReplaceTempView(\"quote_update\")\n",
    "quote_update.show(5)"
   ]
  },
  {
   "cell_type": "code",
   "execution_count": 19,
   "metadata": {},
   "outputs": [
    {
     "name": "stdout",
     "output_type": "stream",
     "text": [
      "+------+--------+----------+--------------------+------------+-------------------+--------+--------+--------+-------------------+---------------+----------------+--------+\n",
      "|symbol|exchange|  trade_dt|            event_tm|event_seq_nb|         arrival_tm|bid_size|  ask_pr|ask_size|             latest|latest_trade_pr|      mov_avg_pr|close_pr|\n",
      "+------+--------+----------+--------------------+------------+-------------------+--------+--------+--------+-------------------+---------------+----------------+--------+\n",
      "|  SYMA|    NYSE|2020-08-06|2020-08-06 12:52:...|          27|2020-08-06 09:30:00|     100|78.24039|     100|2020-08-06 09:30:00|       76.30847|76.3084716796875|77.78611|\n",
      "|  SYMA|    NYSE|2020-08-06|2020-08-06 15:12:...|          46|2020-08-06 09:30:00|     100| 78.0638|     100|2020-08-06 09:30:00|       76.30847|76.3084716796875|77.78611|\n",
      "|  SYMA|    NYSE|2020-08-06|2020-08-06 18:37:...|          73|2020-08-06 09:30:00|     100|76.86819|     100|2020-08-06 09:30:00|       76.30847|76.3084716796875|77.78611|\n",
      "|  SYMA|    NYSE|2020-08-06|2020-08-06 10:41:...|           9|2020-08-06 09:30:00|     100|76.89216|     100|2020-08-06 09:30:00|       76.30847|76.3084716796875|77.78611|\n",
      "|  SYMA|    NYSE|2020-08-06|2020-08-06 11:53:...|          19|2020-08-06 09:30:00|     100|78.59093|     100|2020-08-06 09:30:00|       76.30847|76.3084716796875|77.78611|\n",
      "+------+--------+----------+--------------------+------------+-------------------+--------+--------+--------+-------------------+---------------+----------------+--------+\n",
      "only showing top 5 rows\n",
      "\n"
     ]
    }
   ],
   "source": [
    "#4.4.2 Join with table temp_last_trade to get the prior day close price\n",
    "quote_final = spark.sql(\"\"\"\n",
    "SELECT * \n",
    "FROM quote_update \n",
    "LEFT JOIN tmp_last_trade\n",
    "    USING(symbol, exchange)\n",
    "\"\"\")\n",
    "quote_final.show(5)"
   ]
  },
  {
   "cell_type": "code",
   "execution_count": 20,
   "metadata": {},
   "outputs": [],
   "source": [
    "#4.4.3 Write the final dataframe into Azure Blob storage at corresponding partition\n",
    "#temp local storage for jupyter notebook\n",
    "quote_final.write.parquet(\"c:/sb/equity-market-data-analysis/output_dir/quote-trade-analytical/date=2020-08-06\")"
   ]
  }
 ],
 "metadata": {
  "interpreter": {
   "hash": "130677d53f9d9c005597b4a5ffdfc05a13adc24155f87011c93166abe676c0fb"
  },
  "kernelspec": {
   "display_name": "Python 3",
   "language": "python",
   "name": "python3"
  },
  "language_info": {
   "codemirror_mode": {
    "name": "ipython",
    "version": 3
   },
   "file_extension": ".py",
   "mimetype": "text/x-python",
   "name": "python",
   "nbconvert_exporter": "python",
   "pygments_lexer": "ipython3",
   "version": "3.8.5"
  }
 },
 "nbformat": 4,
 "nbformat_minor": 2
}
