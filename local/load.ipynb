{
 "cells": [
  {
   "cell_type": "code",
   "execution_count": 1,
   "metadata": {},
   "outputs": [
    {
     "data": {
      "text/html": [
       "<style>.container { width:100% !important; }</style>"
      ],
      "text/plain": [
       "<IPython.core.display.HTML object>"
      ]
     },
     "metadata": {},
     "output_type": "display_data"
    }
   ],
   "source": [
    "from IPython.display import display, HTML\n",
    "display(HTML(\"<style>.container { width:100% !important; }</style>\"))"
   ]
  },
  {
   "cell_type": "code",
   "execution_count": 2,
   "metadata": {},
   "outputs": [],
   "source": [
    "import os\n",
    "from pyspark.sql import SparkSession\n",
    "from pyspark.sql.functions import max"
   ]
  },
  {
   "cell_type": "code",
   "execution_count": 3,
   "metadata": {},
   "outputs": [],
   "source": [
    "spark = SparkSession.builder.master(\"local\").appName(\"load\").getOrCreate()"
   ]
  },
  {
   "cell_type": "code",
   "execution_count": 4,
   "metadata": {},
   "outputs": [],
   "source": [
    "def applyLatest(tq):\n",
    "    latest_arrival = tq.groupBy(\"trade_dt\", \"symbol\", \"exchange\", \"event_tm\", \"event_seq_nb\").agg(max(\"arrival_tm\").alias(\"latest\"))\n",
    "    return tq.join(latest_arrival, [\"trade_dt\", \"symbol\", \"exchange\", \"event_tm\", \"event_seq_nb\"])"
   ]
  },
  {
   "cell_type": "code",
   "execution_count": 5,
   "metadata": {},
   "outputs": [],
   "source": [
    "def clean(date, p):\n",
    "    common_df = spark.read.parquet(\"c:/sb/equity-market-data-analysis/output_dir/{}/partition={}\".format(date, p))\n",
    "    #common_df.show()\n",
    "\n",
    "    if p == 'T':\n",
    "        trade = common_df.select(\"trade_dt\", \"symbol\", \"exchange\", \"event_tm\", \"event_seq_nb\",\n",
    "                                \"arrival_tm\", \"trade_pr\")\n",
    "        corrected = applyLatest(trade)\n",
    "        corrected.write.mode(\"append\").parquet(\"c:/sb/equity-market-data-analysis/output_dir/trade/date={}\".format(date))\n",
    "    else:\n",
    "        quote = common_df.select(\"trade_dt\", \"symbol\", \"exchange\", \"event_tm\", \"event_seq_nb\",\n",
    "                                \"arrival_tm\", \"bid_pr\", \"bid_size\", \"ask_pr\", \"ask_size\")\n",
    "        corrected = applyLatest(quote)\n",
    "        corrected.write.mode(\"append\").parquet(\"c:/sb/equity-market-data-analysis/output_dir/quote/date={}\".format(date))\n",
    "#    print(common_df.count())\n",
    "#    print(corrected.count())"
   ]
  },
  {
   "cell_type": "code",
   "execution_count": 6,
   "metadata": {},
   "outputs": [],
   "source": [
    "#\n",
    "clean('2020-08-05','Q')\n",
    "clean('2020-08-05','T')\n",
    "clean('2020-08-06','Q')\n",
    "clean('2020-08-06','T')"
   ]
  },
  {
   "cell_type": "code",
   "execution_count": null,
   "metadata": {},
   "outputs": [],
   "source": []
  }
 ],
 "metadata": {
  "interpreter": {
   "hash": "130677d53f9d9c005597b4a5ffdfc05a13adc24155f87011c93166abe676c0fb"
  },
  "kernelspec": {
   "display_name": "Python 3",
   "language": "python",
   "name": "python3"
  },
  "language_info": {
   "codemirror_mode": {
    "name": "ipython",
    "version": 3
   },
   "file_extension": ".py",
   "mimetype": "text/x-python",
   "name": "python",
   "nbconvert_exporter": "python",
   "pygments_lexer": "ipython3",
   "version": "3.8.5"
  }
 },
 "nbformat": 4,
 "nbformat_minor": 2
}
